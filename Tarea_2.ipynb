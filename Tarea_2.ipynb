{
 "cells": [
  {
   "cell_type": "markdown",
   "metadata": {},
   "source": [
    "## Pauta Tarea 2"
   ]
  },
  {
   "cell_type": "markdown",
   "metadata": {},
   "source": [
    "Comenzamos importando las librerías que usaremos en el dearrollo de esta tarea. "
   ]
  },
  {
   "cell_type": "code",
   "execution_count": 76,
   "metadata": {},
   "outputs": [],
   "source": [
    "import numpy as np\n",
    "import sympy as sp\n",
    "import pandas as pd\n",
    "import matplotlib as plt"
   ]
  },
  {
   "cell_type": "markdown",
   "metadata": {},
   "source": [
    "Primero, importamos la tabla de excel a Python. "
   ]
  },
  {
   "cell_type": "code",
   "execution_count": 263,
   "metadata": {},
   "outputs": [],
   "source": [
    "matriz= pd.read_excel(\"DatosTSM.xlsx\", header=None)"
   ]
  },
  {
   "cell_type": "markdown",
   "metadata": {},
   "source": [
    "Ahora extraemos los datos."
   ]
  },
  {
   "cell_type": "code",
   "execution_count": 267,
   "metadata": {},
   "outputs": [
    {
     "data": {
      "text/latex": [
       "$\\displaystyle \\left[\\begin{matrix}0 & 13.4666666666667\\\\1 & 13.2333333333333\\\\2 & 13.5166666666667\\\\3 & 13.675\\\\4 & 13.5666666666667\\\\5 & 13.2909090909091\\\\6 & 14.2333333333333\\\\7 & 14.175\\\\8 & 14.0333333333333\\\\9 & 13.5083333333333\\end{matrix}\\right]$"
      ],
      "text/plain": [
       "Matrix([\n",
       "[0, 13.4666666666667],\n",
       "[1, 13.2333333333333],\n",
       "[2, 13.5166666666667],\n",
       "[3,           13.675],\n",
       "[4, 13.5666666666667],\n",
       "[5, 13.2909090909091],\n",
       "[6, 14.2333333333333],\n",
       "[7,           14.175],\n",
       "[8, 14.0333333333333],\n",
       "[9, 13.5083333333333]])"
      ]
     },
     "metadata": {},
     "output_type": "display_data"
    }
   ],
   "source": [
    "lista = [] # Esta lista guardaremos los datos de todos los años\n",
    "listayear = []  # En esta guardaremos los datos de un año en particular\n",
    "year = 2009 # El primer año es 2009\n",
    "for i in range(120):  # Recorremos las  filas\n",
    "    # Verificamos que el año es el que estamos completando actuamente\n",
    "    if(year == int(matriz.iloc[i+3,0])): \n",
    "        # Verificamos que tengamos un dato válido (que no sea S.I.)\n",
    "        if(matriz.iloc[i+3,4] != \"S.I.\"):\n",
    "            # En cuyo caso, lo agregamos a la listsa listyear\n",
    "            listayear.append(float(matriz.iloc[i+3,4]))\n",
    "    # Si cambió el año\n",
    "    else:\n",
    "        # Significa que la lista del año anterior está lista, \n",
    "        # Por lo que la agregamos completamente a la lista\n",
    "        lista.append(listayear)\n",
    "        # Volvemos a reinicializar listayear\n",
    "        listayear = []\n",
    "        # Le agregamos el primer dato del nuevo año\n",
    "        listayear.append(float(matriz.iloc[i+3,4]))\n",
    "        # Y actualizamos el año actual\n",
    "        year = year+1\n",
    "# Agregamos el último año leido\n",
    "lista.append(listayear)    \n",
    "\n",
    "# Ahora calculamos el promedio anual.\n",
    "# Guardamos los valores en la variable listaTSManual\n",
    "listaTSManual = []\n",
    "for i in range(10):\n",
    "    # Calculamos el promedio del i-ésimo año y lo agregamos a la lista\n",
    "    listaTSManual.append([i,np.array(lista[i]).mean()])\n",
    "\n",
    "# Mostramos los datos solicitados como matriz de SymPy\n",
    "Datos = sp.Matrix(listaTSManual)\n",
    "display(Datos)"
   ]
  },
  {
   "cell_type": "markdown",
   "metadata": {},
   "source": [
    "Una vez que tenemos los datos, construimos la matriz de coeficientes y el vector de términos independientes del sistema. "
   ]
  },
  {
   "cell_type": "code",
   "execution_count": 268,
   "metadata": {},
   "outputs": [
    {
     "data": {
      "text/latex": [
       "$\\displaystyle \\left[\\begin{matrix}1 & 1 & 1 & 1 & 1 & 1 & 1 & 1 & 1 & 1\\\\1 & 2 & 4 & 8 & 16 & 32 & 64 & 128 & 256 & 512\\\\1 & 3 & 9 & 27 & 81 & 243 & 729 & 2187 & 6561 & 19683\\\\1 & 4 & 16 & 64 & 256 & 1024 & 4096 & 16384 & 65536 & 262144\\\\1 & 5 & 25 & 125 & 625 & 3125 & 15625 & 78125 & 390625 & 1953125\\\\1 & 6 & 36 & 216 & 1296 & 7776 & 46656 & 279936 & 1679616 & 10077696\\\\1 & 7 & 49 & 343 & 2401 & 16807 & 117649 & 823543 & 5764801 & 40353607\\\\1 & 8 & 64 & 512 & 4096 & 32768 & 262144 & 2097152 & 16777216 & 134217728\\\\1 & 9 & 81 & 729 & 6561 & 59049 & 531441 & 4782969 & 43046721 & 387420489\\\\1 & 10 & 100 & 1000 & 10000 & 100000 & 1000000 & 10000000 & 100000000 & 1000000000\\end{matrix}\\right]$"
      ],
      "text/plain": [
       "Matrix([\n",
       "[1,  1,   1,    1,     1,      1,       1,        1,         1,          1],\n",
       "[1,  2,   4,    8,    16,     32,      64,      128,       256,        512],\n",
       "[1,  3,   9,   27,    81,    243,     729,     2187,      6561,      19683],\n",
       "[1,  4,  16,   64,   256,   1024,    4096,    16384,     65536,     262144],\n",
       "[1,  5,  25,  125,   625,   3125,   15625,    78125,    390625,    1953125],\n",
       "[1,  6,  36,  216,  1296,   7776,   46656,   279936,   1679616,   10077696],\n",
       "[1,  7,  49,  343,  2401,  16807,  117649,   823543,   5764801,   40353607],\n",
       "[1,  8,  64,  512,  4096,  32768,  262144,  2097152,  16777216,  134217728],\n",
       "[1,  9,  81,  729,  6561,  59049,  531441,  4782969,  43046721,  387420489],\n",
       "[1, 10, 100, 1000, 10000, 100000, 1000000, 10000000, 100000000, 1000000000]])"
      ]
     },
     "metadata": {},
     "output_type": "display_data"
    }
   ],
   "source": [
    "# Usamos el comando vander de numpy para construir la matriz\n",
    "# que representa el polinomio de interpolación evaluado en los puntos\n",
    "# de 1 a 10. Observar que el orden de las columnas es distinto a la\n",
    "# del enunciado.\n",
    "V = np.vander(range(1,11))\n",
    "# Transformamos la matriz en una matriz de SymPy\n",
    "B = sp.Matrix(V)\n",
    "# Y luego reordenamos las columnas para que tenga el mismo aspecto\n",
    "# que en el enunciado. \n",
    "A = B.copy()\n",
    "for i in range(10):\n",
    "    A[:,i] = B[:,9-i]\n",
    "# Mostramos la matriz de coeficientes\n",
    "display(A)"
   ]
  },
  {
   "cell_type": "markdown",
   "metadata": {},
   "source": [
    "La matriz de términos independientes se obtiene simplemente tomando la segunda columna de la matriz de Datos."
   ]
  },
  {
   "cell_type": "code",
   "execution_count": 270,
   "metadata": {},
   "outputs": [
    {
     "data": {
      "text/latex": [
       "$\\displaystyle \\left[\\begin{matrix}13.4666666666667\\\\13.2333333333333\\\\13.5166666666667\\\\13.675\\\\13.5666666666667\\\\13.2909090909091\\\\14.2333333333333\\\\14.175\\\\14.0333333333333\\\\13.5083333333333\\end{matrix}\\right]$"
      ],
      "text/plain": [
       "Matrix([\n",
       "[13.4666666666667],\n",
       "[13.2333333333333],\n",
       "[13.5166666666667],\n",
       "[          13.675],\n",
       "[13.5666666666667],\n",
       "[13.2909090909091],\n",
       "[14.2333333333333],\n",
       "[          14.175],\n",
       "[14.0333333333333],\n",
       "[13.5083333333333]])"
      ]
     },
     "metadata": {},
     "output_type": "display_data"
    }
   ],
   "source": [
    "Y = Datos[:,1]\n",
    "display(Y)"
   ]
  },
  {
   "cell_type": "markdown",
   "metadata": {},
   "source": [
    "### Pregunta 1:"
   ]
  },
  {
   "cell_type": "markdown",
   "metadata": {},
   "source": [
    "Verificamos primero que la matriz es invertible:"
   ]
  },
  {
   "cell_type": "code",
   "execution_count": 135,
   "metadata": {},
   "outputs": [
    {
     "data": {
      "text/latex": [
       "$\\displaystyle 1834933472251084800000$"
      ],
      "text/plain": [
       "1834933472251084800000"
      ]
     },
     "execution_count": 135,
     "metadata": {},
     "output_type": "execute_result"
    }
   ],
   "source": [
    "A.det() # Calculamos el determinante"
   ]
  },
  {
   "cell_type": "markdown",
   "metadata": {},
   "source": [
    "Como el determinante es distinto de cero, tenemos que la matriz es invertible. \n",
    "\n",
    "Resolvemos entonces el sistema multiplicando la inversa de $A$ por $Y$. "
   ]
  },
  {
   "cell_type": "code",
   "execution_count": 272,
   "metadata": {},
   "outputs": [
    {
     "data": {
      "text/latex": [
       "$\\displaystyle \\left[\\begin{matrix}114.075757575757\\\\-277.392873075995\\\\306.998745415463\\\\-182.790043523862\\\\65.3184015940654\\\\-14.6455641922699\\\\2.07340672348483\\\\-0.17967313261584\\\\0.00868869122775378\\\\-0.000179408586526642\\end{matrix}\\right]$"
      ],
      "text/plain": [
       "Matrix([\n",
       "[     114.075757575757],\n",
       "[    -277.392873075995],\n",
       "[     306.998745415463],\n",
       "[    -182.790043523862],\n",
       "[     65.3184015940654],\n",
       "[    -14.6455641922699],\n",
       "[     2.07340672348483],\n",
       "[    -0.17967313261584],\n",
       "[  0.00868869122775378],\n",
       "[-0.000179408586526642]])"
      ]
     },
     "metadata": {},
     "output_type": "display_data"
    }
   ],
   "source": [
    "display(A.inv()*Y)"
   ]
  },
  {
   "cell_type": "markdown",
   "metadata": {},
   "source": [
    "### Pregunta 2:\n",
    "\n",
    "Resolvemos ahora el sistema usando el método de Gauss."
   ]
  },
  {
   "cell_type": "code",
   "execution_count": 284,
   "metadata": {},
   "outputs": [
    {
     "data": {
      "text/latex": [
       "$\\displaystyle \\left[\\begin{array}{ccccccccccc}1 & 0 & 0 & 0 & 0 & 0 & 0 & 0 & 0 & 0 & 114.075757575757\\\\0 & 1 & 0 & 0 & 0 & 0 & 0 & 0 & 0 & 0 & -277.392873075997\\\\0 & 0 & 1 & 0 & 0 & 0 & 0 & 0 & 0 & 0 & 306.998745415463\\\\0 & 0 & 0 & 1 & 0 & 0 & 0 & 0 & 0 & 0 & -182.790043523862\\\\0 & 0 & 0 & 0 & 1 & 0 & 0 & 0 & 0 & 0 & 65.3184015940654\\\\0 & 0 & 0 & 0 & 0 & 1 & 0 & 0 & 0 & 0 & -14.6455641922699\\\\0 & 0 & 0 & 0 & 0 & 0 & 1 & 0 & 0 & 0 & 2.07340672348484\\\\0 & 0 & 0 & 0 & 0 & 0 & 0 & 1 & 0 & 0 & -0.17967313261584\\\\0 & 0 & 0 & 0 & 0 & 0 & 0 & 0 & 1 & 0 & 0.00868869122775369\\\\0 & 0 & 0 & 0 & 0 & 0 & 0 & 0 & 0 & 1 & -0.000179408586526641\\end{array}\\right]$"
      ],
      "text/plain": [
       "Matrix([\n",
       "[1, 0, 0, 0, 0, 0, 0, 0, 0, 0,      114.075757575757],\n",
       "[0, 1, 0, 0, 0, 0, 0, 0, 0, 0,     -277.392873075997],\n",
       "[0, 0, 1, 0, 0, 0, 0, 0, 0, 0,      306.998745415463],\n",
       "[0, 0, 0, 1, 0, 0, 0, 0, 0, 0,     -182.790043523862],\n",
       "[0, 0, 0, 0, 1, 0, 0, 0, 0, 0,      65.3184015940654],\n",
       "[0, 0, 0, 0, 0, 1, 0, 0, 0, 0,     -14.6455641922699],\n",
       "[0, 0, 0, 0, 0, 0, 1, 0, 0, 0,      2.07340672348484],\n",
       "[0, 0, 0, 0, 0, 0, 0, 1, 0, 0,     -0.17967313261584],\n",
       "[0, 0, 0, 0, 0, 0, 0, 0, 1, 0,   0.00868869122775369],\n",
       "[0, 0, 0, 0, 0, 0, 0, 0, 0, 1, -0.000179408586526641]])"
      ]
     },
     "metadata": {},
     "output_type": "display_data"
    }
   ],
   "source": [
    "# Primero onstruimos la matriz aumentada, que llamamos Z, \n",
    "# agregando Y como una columa a la matriz A.\n",
    "Z = A.col_insert(11,Y)\n",
    "\n",
    "# Ahora usamos el comando de sympy para obtener con SymPy la forma\n",
    "# escalonada reducida de la matriz Z. \n",
    "S = Z.rref()[0]\n",
    "display(S)"
   ]
  },
  {
   "cell_type": "markdown",
   "metadata": {},
   "source": [
    "La última columna es el vector solución obtenido con el metodo de Gauss-Jordan"
   ]
  },
  {
   "cell_type": "code",
   "execution_count": 286,
   "metadata": {},
   "outputs": [
    {
     "data": {
      "text/latex": [
       "$\\displaystyle \\left[\\begin{matrix}114.075757575757\\\\-277.392873075997\\\\306.998745415463\\\\-182.790043523862\\\\65.3184015940654\\\\-14.6455641922699\\\\2.07340672348484\\\\-0.17967313261584\\\\0.00868869122775369\\\\-0.000179408586526641\\end{matrix}\\right]$"
      ],
      "text/plain": [
       "Matrix([\n",
       "[     114.075757575757],\n",
       "[    -277.392873075997],\n",
       "[     306.998745415463],\n",
       "[    -182.790043523862],\n",
       "[     65.3184015940654],\n",
       "[    -14.6455641922699],\n",
       "[     2.07340672348484],\n",
       "[    -0.17967313261584],\n",
       "[  0.00868869122775369],\n",
       "[-0.000179408586526641]])"
      ]
     },
     "execution_count": 286,
     "metadata": {},
     "output_type": "execute_result"
    }
   ],
   "source": [
    "S[:,10]"
   ]
  },
  {
   "cell_type": "markdown",
   "metadata": {},
   "source": [
    "### Pregunta 3"
   ]
  },
  {
   "cell_type": "markdown",
   "metadata": {},
   "source": [
    "En esta pregunta buscamos resolver el sistema con el método de Jacobi. \n",
    "\n",
    "Primero, separamos la daigonal del resto de la matriz. Llamamos $D$ la matriz que contiene la diagonal y $R$ la que tiene todo el resto."
   ]
  },
  {
   "cell_type": "code",
   "execution_count": 308,
   "metadata": {},
   "outputs": [
    {
     "data": {
      "text/latex": [
       "$\\displaystyle \\left[\\begin{matrix}1 & 0 & 0 & 0 & 0 & 0 & 0 & 0 & 0 & 0\\\\0 & 2 & 0 & 0 & 0 & 0 & 0 & 0 & 0 & 0\\\\0 & 0 & 9 & 0 & 0 & 0 & 0 & 0 & 0 & 0\\\\0 & 0 & 0 & 64 & 0 & 0 & 0 & 0 & 0 & 0\\\\0 & 0 & 0 & 0 & 625 & 0 & 0 & 0 & 0 & 0\\\\0 & 0 & 0 & 0 & 0 & 7776 & 0 & 0 & 0 & 0\\\\0 & 0 & 0 & 0 & 0 & 0 & 117649 & 0 & 0 & 0\\\\0 & 0 & 0 & 0 & 0 & 0 & 0 & 2097152 & 0 & 0\\\\0 & 0 & 0 & 0 & 0 & 0 & 0 & 0 & 43046721 & 0\\\\0 & 0 & 0 & 0 & 0 & 0 & 0 & 0 & 0 & 1000000000\\end{matrix}\\right]$"
      ],
      "text/plain": [
       "Matrix([\n",
       "[1, 0, 0,  0,   0,    0,      0,       0,        0,          0],\n",
       "[0, 2, 0,  0,   0,    0,      0,       0,        0,          0],\n",
       "[0, 0, 9,  0,   0,    0,      0,       0,        0,          0],\n",
       "[0, 0, 0, 64,   0,    0,      0,       0,        0,          0],\n",
       "[0, 0, 0,  0, 625,    0,      0,       0,        0,          0],\n",
       "[0, 0, 0,  0,   0, 7776,      0,       0,        0,          0],\n",
       "[0, 0, 0,  0,   0,    0, 117649,       0,        0,          0],\n",
       "[0, 0, 0,  0,   0,    0,      0, 2097152,        0,          0],\n",
       "[0, 0, 0,  0,   0,    0,      0,       0, 43046721,          0],\n",
       "[0, 0, 0,  0,   0,    0,      0,       0,        0, 1000000000]])"
      ]
     },
     "metadata": {},
     "output_type": "display_data"
    },
    {
     "data": {
      "text/latex": [
       "$\\displaystyle \\left[\\begin{matrix}0 & 1 & 1 & 1 & 1 & 1 & 1 & 1 & 1 & 1\\\\1 & 0 & 4 & 8 & 16 & 32 & 64 & 128 & 256 & 512\\\\1 & 3 & 0 & 27 & 81 & 243 & 729 & 2187 & 6561 & 19683\\\\1 & 4 & 16 & 0 & 256 & 1024 & 4096 & 16384 & 65536 & 262144\\\\1 & 5 & 25 & 125 & 0 & 3125 & 15625 & 78125 & 390625 & 1953125\\\\1 & 6 & 36 & 216 & 1296 & 0 & 46656 & 279936 & 1679616 & 10077696\\\\1 & 7 & 49 & 343 & 2401 & 16807 & 0 & 823543 & 5764801 & 40353607\\\\1 & 8 & 64 & 512 & 4096 & 32768 & 262144 & 0 & 16777216 & 134217728\\\\1 & 9 & 81 & 729 & 6561 & 59049 & 531441 & 4782969 & 0 & 387420489\\\\1 & 10 & 100 & 1000 & 10000 & 100000 & 1000000 & 10000000 & 100000000 & 0\\end{matrix}\\right]$"
      ],
      "text/plain": [
       "Matrix([\n",
       "[0,  1,   1,    1,     1,      1,       1,        1,         1,         1],\n",
       "[1,  0,   4,    8,    16,     32,      64,      128,       256,       512],\n",
       "[1,  3,   0,   27,    81,    243,     729,     2187,      6561,     19683],\n",
       "[1,  4,  16,    0,   256,   1024,    4096,    16384,     65536,    262144],\n",
       "[1,  5,  25,  125,     0,   3125,   15625,    78125,    390625,   1953125],\n",
       "[1,  6,  36,  216,  1296,      0,   46656,   279936,   1679616,  10077696],\n",
       "[1,  7,  49,  343,  2401,  16807,       0,   823543,   5764801,  40353607],\n",
       "[1,  8,  64,  512,  4096,  32768,  262144,        0,  16777216, 134217728],\n",
       "[1,  9,  81,  729,  6561,  59049,  531441,  4782969,         0, 387420489],\n",
       "[1, 10, 100, 1000, 10000, 100000, 1000000, 10000000, 100000000,         0]])"
      ]
     },
     "metadata": {},
     "output_type": "display_data"
    }
   ],
   "source": [
    "D = sp.Matrix(np.diag(np.diag(A)))\n",
    "display(D)\n",
    "R = A-D\n",
    "display(R)"
   ]
  },
  {
   "cell_type": "markdown",
   "metadata": {},
   "source": [
    "El metodo de Jacobi comienza con un vector $x_0$ arbitrario, y busca aproximarse a la solución repitiendo:\n",
    "\n",
    "$$x_{n+1} = D^{-1}(b - Rx_n)$$\n",
    "\n",
    "En nuestro caso vamos a comenzar con un vector de ceros."
   ]
  },
  {
   "cell_type": "code",
   "execution_count": 322,
   "metadata": {},
   "outputs": [],
   "source": [
    "def metodo_jacobi(x,D,R,b,num_repeticiones):\n",
    "    for i in range(num_repeticiones):\n",
    "        x = np.dot(np.linalg.inv(D),b - np.dot(R,x))\n",
    "    return x"
   ]
  },
  {
   "cell_type": "code",
   "execution_count": 323,
   "metadata": {},
   "outputs": [
    {
     "data": {
      "text/plain": [
       "array([[-1.68441167e+58],\n",
       "       [-3.13326298e+58],\n",
       "       [-2.24700594e+58],\n",
       "       [-9.28090156e+57],\n",
       "       [-2.59286114e+57],\n",
       "       [-5.33034791e+56],\n",
       "       [-8.48880098e+55],\n",
       "       [-1.08488832e+55],\n",
       "       [-1.14260064e+54],\n",
       "       [-1.01290351e+53]])"
      ]
     },
     "metadata": {},
     "output_type": "display_data"
    }
   ],
   "source": [
    "x = np.zeros([10,1])\n",
    "D = np.array(D,dtype=float)\n",
    "R = np.array(A-D,dtype=float)\n",
    "b = np.array(Y,dtype=float)\n",
    "\n",
    "display(metodo_jacobi(x,D,R,b,100))"
   ]
  },
  {
   "cell_type": "markdown",
   "metadata": {},
   "source": [
    "Obtenemos que la solución diverge. Basta aumentar el valor de `num_repeticiones` para obtener un vector de valores cada vez más grandes. \n",
    "\n",
    "Esto es independiente del punto inicial seleccionado. Por ejemplo si tomamos la solución obteneida en la pregunta anterior, vemos que de todas maneras el método diverge."
   ]
  },
  {
   "cell_type": "code",
   "execution_count": 324,
   "metadata": {},
   "outputs": [
    {
     "data": {
      "text/plain": [
       "array([[3.04797984500562e+45],\n",
       "       [5.66970806496132e+45],\n",
       "       [4.06600651563291e+45],\n",
       "       [1.67939948891880e+45],\n",
       "       [4.69183909703059e+44],\n",
       "       [9.64538142142371e+43],\n",
       "       [1.53606715169962e+43],\n",
       "       [1.96312921032683e+42],\n",
       "       [2.06756091372521e+41],\n",
       "       [1.83287111207066e+40]], dtype=object)"
      ]
     },
     "metadata": {},
     "output_type": "display_data"
    }
   ],
   "source": [
    "x = S[:,10]\n",
    "display(metodo_jacobi(x,D,R,b,100))"
   ]
  },
  {
   "cell_type": "markdown",
   "metadata": {},
   "source": [
    "Una explicación para esto es que se requiere que el radio expectral de la matriz $D^{-1}R$ tiene que ser menor que uno. El siguiente código calcula el radio espectral de esta matriz:"
   ]
  },
  {
   "cell_type": "code",
   "execution_count": 329,
   "metadata": {},
   "outputs": [
    {
     "data": {
      "text/plain": [
       "3.9364763840615336"
      ]
     },
     "metadata": {},
     "output_type": "display_data"
    }
   ],
   "source": [
    "Q = np.dot(np.linalg.inv(D),R)\n",
    "Q = np.array(Q,dtype=float)\n",
    "radio = np.abs(np.linalg.eig(Q)[0]).max()\n",
    "display(radio)"
   ]
  },
  {
   "cell_type": "markdown",
   "metadata": {},
   "source": [
    "### Pregunta 4\n",
    "\n",
    "En esta pregunta queremos calcular el número de condicionamiento de la matriz de coeficientes, que se define como la norma de la matriz, multiplicada por la norma de la inversa de la matriz. "
   ]
  },
  {
   "cell_type": "code",
   "execution_count": 330,
   "metadata": {},
   "outputs": [
    {
     "data": {
      "text/plain": [
       "2106810260520.9841"
      ]
     },
     "execution_count": 330,
     "metadata": {},
     "output_type": "execute_result"
    }
   ],
   "source": [
    "float(A.norm()*A.inv().norm())"
   ]
  },
  {
   "cell_type": "markdown",
   "metadata": {},
   "source": [
    "Obtenemos que el numero de condicionamiento de la matriz es muy grande, lo que podría explicar por qué el método de Jacobi no converge. "
   ]
  },
  {
   "cell_type": "markdown",
   "metadata": {},
   "source": [
    "### Pregunta 5"
   ]
  },
  {
   "cell_type": "markdown",
   "metadata": {},
   "source": [
    "Graficamos el polynomio de interpolación para ver que efectivamente coincide con los puntos dados:¡ (usamos la solución calculada con Gauss-Jordan)."
   ]
  },
  {
   "cell_type": "code",
   "execution_count": 352,
   "metadata": {},
   "outputs": [
    {
     "data": {
      "image/png": "[encoded data removed]",
      "text/plain": [
       "<Figure size 432x288 with 1 Axes>"
      ]
     },
     "metadata": {
      "needs_background": "light"
     },
     "output_type": "display_data"
    }
   ],
   "source": [
    "from pylab import *\n",
    "from matplotlib import pyplot\n",
    "# Polinomio\n",
    "def polynomio(coef,x):\n",
    "    return np.polyval(coef,x)\n",
    "# Puntos\n",
    "coef = np.flip(np.array(S[:,10],dtype=float))\n",
    "y=b\n",
    "z=[0]\n",
    "# Valores del eje X que toma el gráfico.\n",
    "x = arange(-1, 11, 0.05)\n",
    "# Graficar ambas funciones.\n",
    "pyplot.plot(x, [polynomio(coef,i) for i in x])\n",
    "pyplot.plot(range(1,11),y, 'o')\n",
    "pyplot.plot(z, 'o', color=\"white\")\n",
    "# Establecer el color de los ejes.\n",
    "pyplot.axhline(0, color=\"black\")\n",
    "pyplot.axvline(0, color=\"black\")\n",
    "# Limitar los valores de los ejes.\n",
    "pyplot.xlim(0, 11)\n",
    "pyplot.ylim(0, 20)\n",
    "# Guardar gráfico como imágen PNG.\n",
    "pyplot.savefig(\"output.png\")\n",
    "# Mostrarlo.\n",
    "pyplot.show()"
   ]
  },
  {
   "cell_type": "markdown",
   "metadata": {},
   "source": [
    "Vemos que la utilidad de este polinomio es extremadamente limitada para obtener predicciones sobre los valores fuera del rango dado, ya que la función rápidamente diverge. "
   ]
  }
 ],
 "metadata": {
  "kernelspec": {
   "display_name": "Python 3",
   "language": "python",
   "name": "python3"
  },
  "language_info": {
   "codemirror_mode": {
    "name": "ipython",
    "version": 3
   },
   "file_extension": ".py",
   "mimetype": "text/x-python",
   "name": "python",
   "nbconvert_exporter": "python",
   "pygments_lexer": "ipython3",
   "version": "3.7.6"
  }
 },
 "nbformat": 4,
 "nbformat_minor": 2
}
