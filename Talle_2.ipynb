{
 "cells": [
  {
   "cell_type": "markdown",
   "metadata": {
    "slideshow": {
     "slide_type": "slide"
    }
   },
   "source": [
    "<img src=\"files/FIC-UAI negro.jpg\" width=\"300\" height=\"230\" />\n",
    "\n",
    "\n",
    "Profesor(a): \n",
    "\n",
    "\n",
    "# ÁLGEBRA LINEAL - Taller 2: Sistemas de ecuaciones lineales.\n",
    "\n",
    "## OBSERVACIONES\n",
    " \n",
    "* 1:-Debe tener el programa cargado correctamente en su computador.\n",
    "* 2:-Este taller es individual.\n",
    "* 3:-Al finalizar el taller, debe subir su archivo con extensión .ipynb a webcursos en el enlace correspondiente."
   ]
  },
  {
   "cell_type": "code",
   "execution_count": 1,
   "metadata": {},
   "outputs": [],
   "source": [
    "from sympy.interactive import printing\n",
    "printing.init_printing(use_latex = 'mathjax')"
   ]
  },
  {
   "cell_type": "markdown",
   "metadata": {
    "slideshow": {
     "slide_type": "notes"
    }
   },
   "source": [
    "## Resolución de SEL\n",
    "\n",
    "Para resolver un SEL en numpy se utiliza el comando linalg.solve($A$,$b$), donde $A$ es la matriz de coeficientes del sistema y $b$ el vector de términos independientes"
   ]
  },
  {
   "cell_type": "code",
   "execution_count": 2,
   "metadata": {
    "slideshow": {
     "slide_type": "slide"
    }
   },
   "outputs": [
    {
     "data": {
      "text/plain": [
       "matrix([[-0.5],\n",
       "        [ 0.5],\n",
       "        [ 1.5]])"
      ]
     },
     "execution_count": 2,
     "metadata": {},
     "output_type": "execute_result"
    }
   ],
   "source": [
    "#Ejemplo\n",
    "from numpy import matrix , linalg\n",
    "A= matrix ('2 1 1; 1 2 1; 1 1 2') # Matriz de coeficientes\n",
    "b= matrix ('1; 2; 3') # Vector de términos independientes\n",
    "X=linalg.solve(A,b)\n",
    "X"
   ]
  },
  {
   "cell_type": "markdown",
   "metadata": {
    "slideshow": {
     "slide_type": "notes"
    }
   },
   "source": [
    "## Resolución de SEL\n",
    "\n",
    "Si el SEL no tiene solución o tiene infinitas soluciones, el comando linalg.solve($A$,$b$) no calcula las soluciones y devuelve el error LinAlgError: Singular matrix"
   ]
  },
  {
   "cell_type": "code",
   "execution_count": 3,
   "metadata": {
    "slideshow": {
     "slide_type": "slide"
    }
   },
   "outputs": [
    {
     "ename": "LinAlgError",
     "evalue": "Singular matrix",
     "output_type": "error",
     "traceback": [
      "\u001b[1;31m---------------------------------------------------------------------------\u001b[0m",
      "\u001b[1;31mLinAlgError\u001b[0m                               Traceback (most recent call last)",
      "\u001b[1;32m<ipython-input-3-a5f790bbd4a8>\u001b[0m in \u001b[0;36m<module>\u001b[1;34m\u001b[0m\n\u001b[0;32m      3\u001b[0m \u001b[0mA\u001b[0m\u001b[1;33m=\u001b[0m \u001b[0mmatrix\u001b[0m \u001b[1;33m(\u001b[0m\u001b[1;34m'2 1 1; 1 1 2; 1 1 2'\u001b[0m\u001b[1;33m)\u001b[0m\u001b[1;33m\u001b[0m\u001b[1;33m\u001b[0m\u001b[0m\n\u001b[0;32m      4\u001b[0m \u001b[0mb\u001b[0m\u001b[1;33m=\u001b[0m \u001b[0mmatrix\u001b[0m \u001b[1;33m(\u001b[0m\u001b[1;34m'1; 2; 3'\u001b[0m\u001b[1;33m)\u001b[0m\u001b[1;33m\u001b[0m\u001b[1;33m\u001b[0m\u001b[0m\n\u001b[1;32m----> 5\u001b[1;33m \u001b[0mX\u001b[0m\u001b[1;33m=\u001b[0m\u001b[0mlinalg\u001b[0m\u001b[1;33m.\u001b[0m\u001b[0msolve\u001b[0m\u001b[1;33m(\u001b[0m\u001b[0mA\u001b[0m\u001b[1;33m,\u001b[0m\u001b[0mb\u001b[0m\u001b[1;33m)\u001b[0m\u001b[1;33m\u001b[0m\u001b[1;33m\u001b[0m\u001b[0m\n\u001b[0m\u001b[0;32m      6\u001b[0m \u001b[0mX\u001b[0m\u001b[1;33m\u001b[0m\u001b[1;33m\u001b[0m\u001b[0m\n",
      "\u001b[1;32m<__array_function__ internals>\u001b[0m in \u001b[0;36msolve\u001b[1;34m(*args, **kwargs)\u001b[0m\n",
      "\u001b[1;32m~\\anaconda3\\lib\\site-packages\\numpy\\linalg\\linalg.py\u001b[0m in \u001b[0;36msolve\u001b[1;34m(a, b)\u001b[0m\n\u001b[0;32m    397\u001b[0m     \u001b[0msignature\u001b[0m \u001b[1;33m=\u001b[0m \u001b[1;34m'DD->D'\u001b[0m \u001b[1;32mif\u001b[0m \u001b[0misComplexType\u001b[0m\u001b[1;33m(\u001b[0m\u001b[0mt\u001b[0m\u001b[1;33m)\u001b[0m \u001b[1;32melse\u001b[0m \u001b[1;34m'dd->d'\u001b[0m\u001b[1;33m\u001b[0m\u001b[1;33m\u001b[0m\u001b[0m\n\u001b[0;32m    398\u001b[0m     \u001b[0mextobj\u001b[0m \u001b[1;33m=\u001b[0m \u001b[0mget_linalg_error_extobj\u001b[0m\u001b[1;33m(\u001b[0m\u001b[0m_raise_linalgerror_singular\u001b[0m\u001b[1;33m)\u001b[0m\u001b[1;33m\u001b[0m\u001b[1;33m\u001b[0m\u001b[0m\n\u001b[1;32m--> 399\u001b[1;33m     \u001b[0mr\u001b[0m \u001b[1;33m=\u001b[0m \u001b[0mgufunc\u001b[0m\u001b[1;33m(\u001b[0m\u001b[0ma\u001b[0m\u001b[1;33m,\u001b[0m \u001b[0mb\u001b[0m\u001b[1;33m,\u001b[0m \u001b[0msignature\u001b[0m\u001b[1;33m=\u001b[0m\u001b[0msignature\u001b[0m\u001b[1;33m,\u001b[0m \u001b[0mextobj\u001b[0m\u001b[1;33m=\u001b[0m\u001b[0mextobj\u001b[0m\u001b[1;33m)\u001b[0m\u001b[1;33m\u001b[0m\u001b[1;33m\u001b[0m\u001b[0m\n\u001b[0m\u001b[0;32m    400\u001b[0m \u001b[1;33m\u001b[0m\u001b[0m\n\u001b[0;32m    401\u001b[0m     \u001b[1;32mreturn\u001b[0m \u001b[0mwrap\u001b[0m\u001b[1;33m(\u001b[0m\u001b[0mr\u001b[0m\u001b[1;33m.\u001b[0m\u001b[0mastype\u001b[0m\u001b[1;33m(\u001b[0m\u001b[0mresult_t\u001b[0m\u001b[1;33m,\u001b[0m \u001b[0mcopy\u001b[0m\u001b[1;33m=\u001b[0m\u001b[1;32mFalse\u001b[0m\u001b[1;33m)\u001b[0m\u001b[1;33m)\u001b[0m\u001b[1;33m\u001b[0m\u001b[1;33m\u001b[0m\u001b[0m\n",
      "\u001b[1;32m~\\anaconda3\\lib\\site-packages\\numpy\\linalg\\linalg.py\u001b[0m in \u001b[0;36m_raise_linalgerror_singular\u001b[1;34m(err, flag)\u001b[0m\n\u001b[0;32m     95\u001b[0m \u001b[1;33m\u001b[0m\u001b[0m\n\u001b[0;32m     96\u001b[0m \u001b[1;32mdef\u001b[0m \u001b[0m_raise_linalgerror_singular\u001b[0m\u001b[1;33m(\u001b[0m\u001b[0merr\u001b[0m\u001b[1;33m,\u001b[0m \u001b[0mflag\u001b[0m\u001b[1;33m)\u001b[0m\u001b[1;33m:\u001b[0m\u001b[1;33m\u001b[0m\u001b[1;33m\u001b[0m\u001b[0m\n\u001b[1;32m---> 97\u001b[1;33m     \u001b[1;32mraise\u001b[0m \u001b[0mLinAlgError\u001b[0m\u001b[1;33m(\u001b[0m\u001b[1;34m\"Singular matrix\"\u001b[0m\u001b[1;33m)\u001b[0m\u001b[1;33m\u001b[0m\u001b[1;33m\u001b[0m\u001b[0m\n\u001b[0m\u001b[0;32m     98\u001b[0m \u001b[1;33m\u001b[0m\u001b[0m\n\u001b[0;32m     99\u001b[0m \u001b[1;32mdef\u001b[0m \u001b[0m_raise_linalgerror_nonposdef\u001b[0m\u001b[1;33m(\u001b[0m\u001b[0merr\u001b[0m\u001b[1;33m,\u001b[0m \u001b[0mflag\u001b[0m\u001b[1;33m)\u001b[0m\u001b[1;33m:\u001b[0m\u001b[1;33m\u001b[0m\u001b[1;33m\u001b[0m\u001b[0m\n",
      "\u001b[1;31mLinAlgError\u001b[0m: Singular matrix"
     ]
    }
   ],
   "source": [
    "#Ejemplo\n",
    "from numpy import matrix, linalg\n",
    "A= matrix ('2 1 1; 1 1 2; 1 1 2')\n",
    "b= matrix ('1; 2; 3')\n",
    "X=linalg.solve(A,b)\n",
    "X"
   ]
  },
  {
   "cell_type": "markdown",
   "metadata": {
    "slideshow": {
     "slide_type": "notes"
    }
   },
   "source": [
    "## Resolución de SEL\n",
    "\n",
    "Para resolver un SEL en sympy se utiliza el comando solve_linear_system ($A,x,y,z$), donde $A$ es la matriz ampliada del sistema;  $x,y,z$ son las variables.\n",
    "Para que sympy reconozca las variables, primero deben ser declaradas como tales "
   ]
  },
  {
   "cell_type": "code",
   "execution_count": 4,
   "metadata": {},
   "outputs": [
    {
     "data": {
      "text/latex": [
       "$\\displaystyle \\left\\{ x : - \\frac{1}{2}, \\  y : \\frac{1}{2}, \\  z : \\frac{3}{2}\\right\\}$"
      ],
      "text/plain": [
       "{x: -1/2, y: 1/2, z: 3/2}"
      ]
     },
     "execution_count": 4,
     "metadata": {},
     "output_type": "execute_result"
    }
   ],
   "source": [
    "#Ejemplo\n",
    "from sympy import Matrix, solve_linear_system\n",
    "from sympy.abc import x,y,z # Esto reconoce que x,y,z serán variables\n",
    "A= Matrix ([[2,1,1,1],[1,2,1,2],[1,1,2,3]]) # Matriz ampliada del SEL\n",
    "solve_linear_system (A,x,y,z)"
   ]
  },
  {
   "cell_type": "markdown",
   "metadata": {
    "slideshow": {
     "slide_type": "notes"
    }
   },
   "source": [
    "## Resolución de SEL\n",
    "\n",
    "Si el SEL no tiene solución o tiene infinitas soluciones, el comando solve_linear_system no realiza ninguna acción o calcula las soluciones y las devuelve en forma paramétrica."
   ]
  },
  {
   "cell_type": "code",
   "execution_count": 5,
   "metadata": {
    "slideshow": {
     "slide_type": "slide"
    }
   },
   "outputs": [],
   "source": [
    "from sympy import Matrix , solve_linear_system\n",
    "from sympy.abc import x,y,z\n",
    "A= Matrix ([[2,1,1,1],[1,1,2,2],[1,1,2,3]])\n",
    "solve_linear_system (A,x,y,z)"
   ]
  },
  {
   "cell_type": "code",
   "execution_count": 6,
   "metadata": {},
   "outputs": [
    {
     "data": {
      "text/latex": [
       "$\\displaystyle \\left\\{ x : z - 1, \\  y : 3 - 3 z\\right\\}$"
      ],
      "text/plain": [
       "{x: z - 1, y: 3 - 3⋅z}"
      ]
     },
     "execution_count": 6,
     "metadata": {},
     "output_type": "execute_result"
    }
   ],
   "source": [
    "from sympy import Matrix , solve_linear_system\n",
    "from sympy.abc import x,y,z\n",
    "A= Matrix ([[2,1,1,1],[1,1,2,2],[1,1,2,2]])\n",
    "solve_linear_system (A,x,y,z)"
   ]
  },
  {
   "cell_type": "markdown",
   "metadata": {
    "slideshow": {
     "slide_type": "notes"
    }
   },
   "source": [
    "# Actividad 1\n",
    "Resuelva en numpy y en sympy el siguiente SEL\n",
    "$$\\left\\{\n",
    "\\begin{array}{rcc}\n",
    "10x-20y+50z & = & 100\\\\\n",
    "20x+20y-50z & = & 200\\\\\n",
    "-10x+40y+100z & = & 300\n",
    "\\end{array}\n",
    "\\right.$$"
   ]
  },
  {
   "cell_type": "code",
   "execution_count": 7,
   "metadata": {},
   "outputs": [
    {
     "data": {
      "text/latex": [
       "$\\displaystyle \\left\\{ x : 10, \\  y : 5, \\  z : 2\\right\\}$"
      ],
      "text/plain": [
       "{x: 10, y: 5, z: 2}"
      ]
     },
     "execution_count": 7,
     "metadata": {},
     "output_type": "execute_result"
    }
   ],
   "source": [
    "#Escriba aquí el código de la actividad 1\n",
    "from sympy import Matrix , solve_linear_system\n",
    "from sympy.abc import x,y,z\n",
    "A= Matrix ([[10,-20,50,100],[20,20,-50,200],[-10,40,100,300]])\n",
    "solve_linear_system (A,x,y,z)"
   ]
  },
  {
   "cell_type": "code",
   "execution_count": 8,
   "metadata": {},
   "outputs": [
    {
     "data": {
      "text/plain": [
       "matrix([[10.],\n",
       "        [ 5.],\n",
       "        [ 2.]])"
      ]
     },
     "execution_count": 8,
     "metadata": {},
     "output_type": "execute_result"
    }
   ],
   "source": [
    "from numpy import matrix, linalg\n",
    "A= matrix ('10 -20 50; 20 20 -50; -10 40 100')\n",
    "b= matrix ('100; 200; 300')\n",
    "X=linalg.solve(A,b)\n",
    "X"
   ]
  },
  {
   "cell_type": "markdown",
   "metadata": {},
   "source": [
    "## Actividad 2\n",
    "Encuentre la recta de intersección de los planos   $$\\pi_1:\\; 3x-2y+z-6=0$$ y $$\\pi_2:\\; -2x+4y-3z+5=0$$"
   ]
  },
  {
   "cell_type": "code",
   "execution_count": 8,
   "metadata": {},
   "outputs": [
    {
     "data": {
      "text/latex": [
       "$\\displaystyle \\left\\{ x : \\frac{z}{4} + \\frac{7}{4}, \\  y : \\frac{7 z}{8} - \\frac{3}{8}\\right\\}$"
      ],
      "text/plain": [
       "⎧   z   7     7⋅z   3⎫\n",
       "⎨x: ─ + ─, y: ─── - ─⎬\n",
       "⎩   4   4      8    8⎭"
      ]
     },
     "execution_count": 8,
     "metadata": {},
     "output_type": "execute_result"
    }
   ],
   "source": [
    "#Escriba aquí el código de la actividad 2\n",
    "from sympy import Matrix , solve_linear_system\n",
    "from sympy.abc import x,y,z\n",
    "A= Matrix ([[3,-2,1,6],[-2,4,-3,-5]])\n",
    "solve_linear_system (A,x,y,z)"
   ]
  },
  {
   "cell_type": "markdown",
   "metadata": {
    "slideshow": {
     "slide_type": "notes"
    }
   },
   "source": [
    "## Actividad 3\n",
    "Tenemos los siguientes datos recopilados de un experimento para las variables (Día, Temperatura):\n",
    "\n",
    "<img src=\"files/C.png\" width=\"146\" height=\"123\"/>\n",
    "\n",
    "Para encontrar el polinomio de grado tres $p(x)=a+bx+cx^2+dx^3$ que interpola los puntos del gráfico debe resolverse el siguiente SEL\n",
    "\n",
    "$$\\left\\{\n",
    "\\begin{array}{rcc}\n",
    "a+b+c+d & = & 1\\\\\n",
    "a+2b+4c+8c & = & -2\\\\\n",
    "a+3b+9c+27d & = & 3\\\\\n",
    "a+4b+16c+64d & = & -4\n",
    "\\end{array}\n",
    "\\right.$$\n",
    "\n",
    "Encuentre el polinomio de interpolación."
   ]
  },
  {
   "cell_type": "code",
   "execution_count": 17,
   "metadata": {},
   "outputs": [
    {
     "data": {
      "text/latex": [
       "$\\displaystyle \\left\\{ a : 32, \\  b : - \\frac{155}{3}, \\  c : 24, \\  d : - \\frac{10}{3}\\right\\}$"
      ],
      "text/plain": [
       "{a: 32, b: -155/3, c: 24, d: -10/3}"
      ]
     },
     "execution_count": 17,
     "metadata": {},
     "output_type": "execute_result"
    }
   ],
   "source": [
    "#Escriba aquí el código de la actividad 3\n",
    "from sympy import Matrix , solve_linear_system\n",
    "from sympy.abc import a,b,c,d\n",
    "A= Matrix ([[1,1,1,1,1],[1,2,4,8,-2],[1,3,9,27,3],[1,4,16,64,-4]])\n",
    "solve_linear_system (A,a,b,c,d)"
   ]
  },
  {
   "cell_type": "code",
   "execution_count": 16,
   "metadata": {},
   "outputs": [
    {
     "data": {
      "image/png": "[encoded data removed]",
      "text/plain": [
       "<Figure size 432x288 with 1 Axes>"
      ]
     },
     "metadata": {
      "needs_background": "light"
     },
     "output_type": "display_data"
    }
   ],
   "source": [
    "from pylab import *\n",
    "from matplotlib import pyplot\n",
    "# Polinomio\n",
    "def f1(x):\n",
    "    return 32-155/3*x+24*(x**2) -10/3*(x**3)\n",
    "# Puntos\n",
    "y=[0,1,-2,3,-4]\n",
    "z=[0]\n",
    "# Valores del eje X que toma el gráfico.\n",
    "x = arange(-1, 5, 0.05)\n",
    "# Graficar ambas funciones.\n",
    "pyplot.plot(x, [f1(i) for i in x])\n",
    "pyplot.plot(y, 'o')\n",
    "pyplot.plot(z, 'o', color=\"white\")\n",
    "# Establecer el color de los ejes.\n",
    "pyplot.axhline(0, color=\"black\")\n",
    "pyplot.axvline(0, color=\"black\")\n",
    "# Limitar los valores de los ejes.\n",
    "pyplot.xlim(-1, 5)\n",
    "pyplot.ylim(-5, 4)\n",
    "# Guardar gráfico como imágen PNG.\n",
    "pyplot.savefig(\"output.png\")\n",
    "# Mostrarlo.\n",
    "pyplot.show()"
   ]
  },
  {
   "cell_type": "code",
   "execution_count": null,
   "metadata": {},
   "outputs": [],
   "source": []
  }
 ],
 "metadata": {
  "celltoolbar": "Slideshow",
  "kernel_info": {
   "name": "python3"
  },
  "kernelspec": {
   "display_name": "Python 3",
   "language": "python",
   "name": "python3"
  },
  "language_info": {
   "codemirror_mode": {
    "name": "ipython",
    "version": 3
   },
   "file_extension": ".py",
   "mimetype": "text/x-python",
   "name": "python",
   "nbconvert_exporter": "python",
   "pygments_lexer": "ipython3",
   "version": "3.7.6"
  },
  "nteract": {
   "version": "0.15.0"
  }
 },
 "nbformat": 4,
 "nbformat_minor": 2
}
