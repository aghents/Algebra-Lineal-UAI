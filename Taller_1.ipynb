{
 "cells": [
  {
   "cell_type": "markdown",
   "metadata": {
    "slideshow": {
     "slide_type": "slide"
    }
   },
   "source": [
    "<img src=\"files/FIC-UAI negro.png\" width=\"300\" height=\"230\" />\n",
    "\n",
    "\n",
    "Profesor(a): \n",
    "\n",
    "\n",
    "# ÁLGEBRA LINEAL - Taller 1: Operaciones con matrices.\n",
    "\n",
    "## OBSERVACIONES\n",
    " \n",
    "* 1:-Debe tener el programa cargado correctamente en su computador.\n",
    "* 2:-Este taller es individual.\n",
    "* 3:-Al finalizar el taller, debe subir su archivo con extensión .ipynb a webcursos en el enlace correspondiente.\n"
   ]
  },
  {
   "cell_type": "code",
   "execution_count": 1,
   "metadata": {},
   "outputs": [],
   "source": [
    "# el primer paso es importar la librería de sympy.\n",
    "import sympy as sp"
   ]
  },
  {
   "cell_type": "markdown",
   "metadata": {},
   "source": [
    "## Salidas con notación matemática.\n",
    "sp.interactive.printing.init_printing(use_latex='mathjax') "
   ]
  },
  {
   "cell_type": "markdown",
   "metadata": {
    "slideshow": {
     "slide_type": "notes"
    }
   },
   "source": [
    "## Matrices\n",
    "\n",
    "Para definir una matriz en sympy, se usa el la función Matrix. Una matriz se construye proporcionando una lista de vectores de fila que componen la matriz. "
   ]
  },
  {
   "cell_type": "code",
   "execution_count": 2,
   "metadata": {
    "slideshow": {
     "slide_type": "slide"
    }
   },
   "outputs": [
    {
     "data": {
      "text/latex": [
       "$\\displaystyle \\left[\\begin{matrix}1 & 2 & 3\\\\3 & 2 & 1\\end{matrix}\\right]$"
      ],
      "text/plain": [
       "Matrix([\n",
       "[1, 2, 3],\n",
       "[3, 2, 1]])"
      ]
     },
     "execution_count": 2,
     "metadata": {},
     "output_type": "execute_result"
    }
   ],
   "source": [
    "#Ejemplo\n",
    "M = sp.Matrix([[1, 2, 3], [3, 2, 1]])\n",
    "M"
   ]
  },
  {
   "cell_type": "markdown",
   "metadata": {},
   "source": [
    "## Actividad 1\n",
    "* 1.- Genere una matriz de orden 3x3 que contenga los números de su RUT.\n",
    "* 2.- Escriba un código que le entregue el orden de la matriz.\n",
    "* 3.- Escriba un código que le entregue la segunda fila.\n",
    "* 4.- Escriba un código que le entregue el elemento de la fila 2 columna 2\n",
    "* 5.- Escriba un código que le entregue la matriz transpuesta."
   ]
  },
  {
   "cell_type": "code",
   "execution_count": 16,
   "metadata": {},
   "outputs": [
    {
     "name": "stdout",
     "output_type": "stream",
     "text": [
      "Matriz:\n"
     ]
    },
    {
     "data": {
      "text/latex": [
       "$\\displaystyle \\left[\\begin{matrix}1 & 2 & 3\\\\4 & 5 & 6\\\\7 & 8 & 9\\end{matrix}\\right]$"
      ],
      "text/plain": [
       "⎡1  2  3⎤\n",
       "⎢       ⎥\n",
       "⎢4  5  6⎥\n",
       "⎢       ⎥\n",
       "⎣7  8  9⎦"
      ]
     },
     "metadata": {},
     "output_type": "display_data"
    },
    {
     "name": "stdout",
     "output_type": "stream",
     "text": [
      "Orden de  la Matriz:\n"
     ]
    },
    {
     "data": {
      "text/latex": [
       "$\\displaystyle \\left( 3, \\  3\\right)$"
      ],
      "text/plain": [
       "(3, 3)"
      ]
     },
     "metadata": {},
     "output_type": "display_data"
    },
    {
     "name": "stdout",
     "output_type": "stream",
     "text": [
      "Segunda Fila:\n"
     ]
    },
    {
     "data": {
      "text/latex": [
       "$\\displaystyle \\left[\\begin{matrix}4 & 5 & 6\\end{matrix}\\right]$"
      ],
      "text/plain": [
       "[4  5  6]"
      ]
     },
     "metadata": {},
     "output_type": "display_data"
    },
    {
     "name": "stdout",
     "output_type": "stream",
     "text": [
      "Elemento fila 2, columna 2\n"
     ]
    },
    {
     "data": {
      "text/latex": [
       "$\\displaystyle 5$"
      ],
      "text/plain": [
       "5"
      ]
     },
     "metadata": {},
     "output_type": "display_data"
    },
    {
     "name": "stdout",
     "output_type": "stream",
     "text": [
      "Matriz Transpuesta:\n"
     ]
    },
    {
     "data": {
      "text/latex": [
       "$\\displaystyle \\left[\\begin{matrix}1 & 4 & 7\\\\2 & 5 & 8\\\\3 & 6 & 9\\end{matrix}\\right]$"
      ],
      "text/plain": [
       "⎡1  4  7⎤\n",
       "⎢       ⎥\n",
       "⎢2  5  8⎥\n",
       "⎢       ⎥\n",
       "⎣3  6  9⎦"
      ]
     },
     "metadata": {},
     "output_type": "display_data"
    }
   ],
   "source": [
    "#Escriba aquí el código de la actividad 1.\n",
    "from sympy.interactive import printing\n",
    "printing.init_printing(use_latex = 'mathjax')\n",
    "import sympy as sp\n",
    "M=sp.Matrix([[1,2,3],[4,5,6],[7,8,9]])\n",
    "print(\"Matriz:\")\n",
    "display(M)\n",
    "print(\"Orden de  la Matriz:\")\n",
    "display(M.shape)\n",
    "print(\"Segunda Fila:\")\n",
    "display(M[1,:])\n",
    "print(\"Elemento fila 2, columna 2\")\n",
    "display(M[1,1])\n",
    "print(\"Matriz Transpuesta:\")\n",
    "display(M.T)"
   ]
  },
  {
   "cell_type": "markdown",
   "metadata": {},
   "source": [
    "## Actividad 2\n",
    "Considere el siguiente problema: El precio por unidad para los productos A,B,C y D en las tiendas X e Y son los siguientes: \n",
    "\n",
    "Producto  $\\quad A \\quad\\qquad    B  \\quad\\qquad   C \\quad\\qquad    D$\n",
    "\n",
    "Tienda X : $\\; \\$300\\;,\\quad  \\$490\\;,\\quad  \\$650\\;,\\quad  \\$1080 $\n",
    "\n",
    "Tienda Y : $\\; \\$350\\;,\\quad  \\$450\\;,\\quad \\$630\\;,\\quad  \\$1100 $ \n",
    "\n",
    "Las cantidades que se adquieren de cada producto en cada tienda son: \n",
    "\n",
    "Producto  $\\quad A \\;\\quad\\quad    B  \\;\\quad\\quad   C \\;\\quad\\quad    D$\n",
    "\n",
    "Cantidad : $\\; 500\\;,\\quad  600\\;,\\quad  850\\;,\\quad  720 $\n",
    "\n",
    "Defina dos matrices cuyo producto determine el costo total de las adquisiciones realizadas en cada tienda."
   ]
  },
  {
   "cell_type": "code",
   "execution_count": 7,
   "metadata": {},
   "outputs": [
    {
     "name": "stdout",
     "output_type": "stream",
     "text": [
      "Matriz de precios:\n"
     ]
    },
    {
     "data": {
      "text/latex": [
       "$\\displaystyle \\left[\\begin{matrix}300 & 490 & 650 & 1080\\\\350 & 450 & 630 & 1100\\end{matrix}\\right]$"
      ],
      "text/plain": [
       "⎡300  490  650  1080⎤\n",
       "⎢                   ⎥\n",
       "⎣350  450  630  1100⎦"
      ]
     },
     "metadata": {},
     "output_type": "display_data"
    },
    {
     "name": "stdout",
     "output_type": "stream",
     "text": [
      "Matriz de cantidades:\n"
     ]
    },
    {
     "data": {
      "text/latex": [
       "$\\displaystyle \\left[\\begin{matrix}500\\\\600\\\\850\\\\720\\end{matrix}\\right]$"
      ],
      "text/plain": [
       "⎡500⎤\n",
       "⎢   ⎥\n",
       "⎢600⎥\n",
       "⎢   ⎥\n",
       "⎢850⎥\n",
       "⎢   ⎥\n",
       "⎣720⎦"
      ]
     },
     "metadata": {},
     "output_type": "display_data"
    },
    {
     "name": "stdout",
     "output_type": "stream",
     "text": [
      "Costo total:\n"
     ]
    },
    {
     "data": {
      "text/latex": [
       "$\\displaystyle \\left[\\begin{matrix}1774100\\\\1772500\\end{matrix}\\right]$"
      ],
      "text/plain": [
       "⎡1774100⎤\n",
       "⎢       ⎥\n",
       "⎣1772500⎦"
      ]
     },
     "metadata": {},
     "output_type": "display_data"
    }
   ],
   "source": [
    "#Escriba aquí el código de la actividad 2\n",
    "precios=sp.Matrix([[300, 490, 650, 1080],[350, 450, 630, 1100]])\n",
    "cantidades=sp.Matrix([[500],[600],[850],[720]])\n",
    "print('Matriz de precios:')\n",
    "display(precios)\n",
    "print('Matriz de cantidades:')\n",
    "display(cantidades)\n",
    "print('Costo total:')\n",
    "costo=precios*cantidades\n",
    "display(costo)"
   ]
  },
  {
   "cell_type": "markdown",
   "metadata": {},
   "source": [
    "## Actividad 3\n",
    "Considere las siguientes matrices A, B y C. \n",
    "$$ A=\\left[{\\begin{array}{cc}\n",
    "1 & 1 \\\\\n",
    "3 & 4 \\\\       \n",
    "\\end{array} }\\right]\\;\\;\\;\n",
    "B=\\left[{\\begin{array}{cc}\n",
    "2 & 1 \\\\\n",
    "1 & 1\\\\        \n",
    "\\end{array} }\\right]\\;\\;\\;\n",
    "C=\\left[{\\begin{array}{cc}\n",
    "1 & 2\\\\\n",
    "1 & 3\\\\        \n",
    "\\end{array} }\\right] $$\n",
    "* Escriba un código que resuelva la ecuación matricial $XAB-XC=2C$"
   ]
  },
  {
   "cell_type": "code",
   "execution_count": 17,
   "metadata": {},
   "outputs": [
    {
     "name": "stdout",
     "output_type": "stream",
     "text": [
      "Matriz A:\n"
     ]
    },
    {
     "data": {
      "text/latex": [
       "$\\displaystyle \\left[\\begin{matrix}1 & 1\\\\3 & 4\\end{matrix}\\right]$"
      ],
      "text/plain": [
       "⎡1  1⎤\n",
       "⎢    ⎥\n",
       "⎣3  4⎦"
      ]
     },
     "metadata": {},
     "output_type": "display_data"
    },
    {
     "name": "stdout",
     "output_type": "stream",
     "text": [
      "Matriz B:\n"
     ]
    },
    {
     "data": {
      "text/latex": [
       "$\\displaystyle \\left[\\begin{matrix}2 & 1\\\\1 & 1\\end{matrix}\\right]$"
      ],
      "text/plain": [
       "⎡2  1⎤\n",
       "⎢    ⎥\n",
       "⎣1  1⎦"
      ]
     },
     "metadata": {},
     "output_type": "display_data"
    },
    {
     "name": "stdout",
     "output_type": "stream",
     "text": [
      "Matriz C:\n"
     ]
    },
    {
     "data": {
      "text/latex": [
       "$\\displaystyle \\left[\\begin{matrix}1 & 2\\\\1 & 3\\end{matrix}\\right]$"
      ],
      "text/plain": [
       "⎡1  2⎤\n",
       "⎢    ⎥\n",
       "⎣1  3⎦"
      ]
     },
     "metadata": {},
     "output_type": "display_data"
    },
    {
     "name": "stdout",
     "output_type": "stream",
     "text": [
      "Resultado X:\n"
     ]
    },
    {
     "data": {
      "text/latex": [
       "$\\displaystyle \\left[\\begin{matrix}- \\frac{7}{2} & 1\\\\- \\frac{23}{4} & \\frac{3}{2}\\end{matrix}\\right]$"
      ],
      "text/plain": [
       "⎡-7/2    1 ⎤\n",
       "⎢          ⎥\n",
       "⎣-23/4  3/2⎦"
      ]
     },
     "metadata": {},
     "output_type": "display_data"
    }
   ],
   "source": [
    "#Escriba aquí el código de la actividad 3\n",
    "print(\"Matriz A:\")\n",
    "A=sp.Matrix([[1,1],[3,4]])\n",
    "display(A)\n",
    "print(\"Matriz B:\")\n",
    "B=sp.Matrix([[2,1],[1,1]])\n",
    "display(B)\n",
    "print(\"Matriz C:\")\n",
    "C=sp.Matrix([[1,2],[1,3]])\n",
    "display(C)\n",
    "print(\"Resultado X:\")\n",
    "X=2*C*(A*B-C).inv()\n",
    "display(X)"
   ]
  },
  {
   "cell_type": "code",
   "execution_count": null,
   "metadata": {},
   "outputs": [],
   "source": []
  },
  {
   "cell_type": "code",
   "execution_count": null,
   "metadata": {},
   "outputs": [],
   "source": []
  }
 ],
 "metadata": {
  "celltoolbar": "Slideshow",
  "kernel_info": {
   "name": "python3"
  },
  "kernelspec": {
   "display_name": "Python 3",
   "language": "python",
   "name": "python3"
  },
  "language_info": {
   "codemirror_mode": {
    "name": "ipython",
    "version": 3
   },
   "file_extension": ".py",
   "mimetype": "text/x-python",
   "name": "python",
   "nbconvert_exporter": "python",
   "pygments_lexer": "ipython3",
   "version": "3.7.6"
  },
  "nteract": {
   "version": "0.15.0"
  }
 },
 "nbformat": 4,
 "nbformat_minor": 2
}
